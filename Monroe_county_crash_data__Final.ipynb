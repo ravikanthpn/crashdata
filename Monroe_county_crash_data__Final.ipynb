{
  "nbformat": 4,
  "nbformat_minor": 0,
  "metadata": {
    "colab": {
      "name": "Capstone 3_Monroe_county_crash data._Final.ipynb",
      "provenance": [],
      "collapsed_sections": [],
      "include_colab_link": true
    },
    "kernelspec": {
      "name": "python3",
      "display_name": "Python 3"
    }
  },
  "cells": [
    {
      "cell_type": "markdown",
      "metadata": {
        "id": "view-in-github",
        "colab_type": "text"
      },
      "source": [
        "<a href=\"https://colab.research.google.com/github/ravikanthpn/crashdata/blob/main/Monroe_county_crash_data__Final.ipynb\" target=\"_parent\"><img src=\"https://colab.research.google.com/assets/colab-badge.svg\" alt=\"Open In Colab\"/></a>"
      ]
    },
    {
      "cell_type": "markdown",
      "metadata": {
        "id": "qbqe4zTjwL7z"
      },
      "source": [
        "**Proposal:**\r\n",
        "\r\n",
        "**Dataset description:** \r\n",
        "\r\n",
        "Dataset contains crash data collected between 2003 and 2015 years in MOnroe County. The dataset was filtered by weekday and weekend, collision type (1-car, 2-cars, 3+ cars, Bus, Pedestrian, Moped/Motorcycle, Cyclist), injury type (no injury/unknown, Fatal, Incapacitating, Non-incapacitating), 50 different Primary Factors, accident locations with latitude, longitude co-ordinates in Monroe county.\r\n",
        "\r\n",
        "**Questions to be answered:**\r\n",
        "\r\n",
        "1. Primary factors that are causing maximum number of accidents \r\n",
        "2. Is there any correlation between rush hour and non-rush hour on the number of accidents\r\n",
        "3. Testing statistical significance between rush hour and non-rush hour total accidents\r\n",
        "4. Is there any location dependency on number of accidents?"
      ]
    },
    {
      "cell_type": "code",
      "metadata": {
        "id": "fV4ZmDEaY2Vl"
      },
      "source": [
        "import requests  \r\n",
        "import seaborn as sns\r\n",
        "import pandas as pd\r\n",
        "import numpy as np\r\n",
        "from scipy import stats\r\n",
        "import os\r\n",
        "import matplotlib.pyplot as plt\r\n",
        "%matplotlib inline"
      ],
      "execution_count": null,
      "outputs": []
    },
    {
      "cell_type": "code",
      "metadata": {
        "id": "DHeUJQO3b-6b"
      },
      "source": [
        "df = pd.read_excel(\"https://raw.githubusercontent.com/ravikanthpn/crashdata/main/monroe-county-crash-data2003-to-2015.xls\")"
      ],
      "execution_count": null,
      "outputs": []
    },
    {
      "cell_type": "code",
      "metadata": {
        "colab": {
          "base_uri": "https://localhost:8080/"
        },
        "id": "IIR-SgjRlD23",
        "outputId": "409cbc98-c380-4d66-e890-50ca8904aabd"
      },
      "source": [
        "df.info()"
      ],
      "execution_count": null,
      "outputs": [
        {
          "output_type": "stream",
          "text": [
            "<class 'pandas.core.frame.DataFrame'>\n",
            "RangeIndex: 53943 entries, 0 to 53942\n",
            "Data columns (total 12 columns):\n",
            " #   Column                Non-Null Count  Dtype  \n",
            "---  ------                --------------  -----  \n",
            " 0   Master Record Number  53943 non-null  int64  \n",
            " 1   Year                  53943 non-null  int64  \n",
            " 2   Month                 53943 non-null  int64  \n",
            " 3   Day                   53943 non-null  int64  \n",
            " 4   Weekend?              53875 non-null  object \n",
            " 5   Hour                  53718 non-null  float64\n",
            " 6   Collision Type        53937 non-null  object \n",
            " 7   Injury Type           53943 non-null  object \n",
            " 8   Primary Factor        52822 non-null  object \n",
            " 9   Reported_Location     53908 non-null  object \n",
            " 10  Latitude              53913 non-null  float64\n",
            " 11  Longitude             53913 non-null  float64\n",
            "dtypes: float64(3), int64(4), object(5)\n",
            "memory usage: 4.9+ MB\n"
          ],
          "name": "stdout"
        }
      ]
    },
    {
      "cell_type": "code",
      "metadata": {
        "colab": {
          "base_uri": "https://localhost:8080/",
          "height": 284
        },
        "id": "qbjLYPRIIzVj",
        "outputId": "f534d46a-2b2b-471b-a725-1e324d776b91"
      },
      "source": [
        "df.describe()"
      ],
      "execution_count": null,
      "outputs": [
        {
          "output_type": "execute_result",
          "data": {
            "text/html": [
              "<div>\n",
              "<style scoped>\n",
              "    .dataframe tbody tr th:only-of-type {\n",
              "        vertical-align: middle;\n",
              "    }\n",
              "\n",
              "    .dataframe tbody tr th {\n",
              "        vertical-align: top;\n",
              "    }\n",
              "\n",
              "    .dataframe thead th {\n",
              "        text-align: right;\n",
              "    }\n",
              "</style>\n",
              "<table border=\"1\" class=\"dataframe\">\n",
              "  <thead>\n",
              "    <tr style=\"text-align: right;\">\n",
              "      <th></th>\n",
              "      <th>Master Record Number</th>\n",
              "      <th>Year</th>\n",
              "      <th>Month</th>\n",
              "      <th>Day</th>\n",
              "      <th>Hour</th>\n",
              "      <th>Latitude</th>\n",
              "      <th>Longitude</th>\n",
              "    </tr>\n",
              "  </thead>\n",
              "  <tbody>\n",
              "    <tr>\n",
              "      <th>count</th>\n",
              "      <td>5.394300e+04</td>\n",
              "      <td>53943.000000</td>\n",
              "      <td>53943.000000</td>\n",
              "      <td>53943.000000</td>\n",
              "      <td>53718.000000</td>\n",
              "      <td>53913.000000</td>\n",
              "      <td>53913.000000</td>\n",
              "    </tr>\n",
              "    <tr>\n",
              "      <th>mean</th>\n",
              "      <td>6.748119e+08</td>\n",
              "      <td>2008.968059</td>\n",
              "      <td>6.662162</td>\n",
              "      <td>4.196912</td>\n",
              "      <td>1347.265349</td>\n",
              "      <td>35.582109</td>\n",
              "      <td>-78.619224</td>\n",
              "    </tr>\n",
              "    <tr>\n",
              "      <th>std</th>\n",
              "      <td>3.907563e+08</td>\n",
              "      <td>3.789760</td>\n",
              "      <td>3.514630</td>\n",
              "      <td>1.909440</td>\n",
              "      <td>531.654039</td>\n",
              "      <td>11.289883</td>\n",
              "      <td>24.957587</td>\n",
              "    </tr>\n",
              "    <tr>\n",
              "      <th>min</th>\n",
              "      <td>1.470500e+04</td>\n",
              "      <td>2003.000000</td>\n",
              "      <td>1.000000</td>\n",
              "      <td>1.000000</td>\n",
              "      <td>0.000000</td>\n",
              "      <td>0.000000</td>\n",
              "      <td>-88.959213</td>\n",
              "    </tr>\n",
              "    <tr>\n",
              "      <th>25%</th>\n",
              "      <td>1.991074e+06</td>\n",
              "      <td>2006.000000</td>\n",
              "      <td>4.000000</td>\n",
              "      <td>3.000000</td>\n",
              "      <td>1000.000000</td>\n",
              "      <td>39.142048</td>\n",
              "      <td>-86.551520</td>\n",
              "    </tr>\n",
              "    <tr>\n",
              "      <th>50%</th>\n",
              "      <td>9.011241e+08</td>\n",
              "      <td>2009.000000</td>\n",
              "      <td>7.000000</td>\n",
              "      <td>4.000000</td>\n",
              "      <td>1400.000000</td>\n",
              "      <td>39.164430</td>\n",
              "      <td>-86.530992</td>\n",
              "    </tr>\n",
              "    <tr>\n",
              "      <th>75%</th>\n",
              "      <td>9.019039e+08</td>\n",
              "      <td>2012.000000</td>\n",
              "      <td>10.000000</td>\n",
              "      <td>6.000000</td>\n",
              "      <td>1700.000000</td>\n",
              "      <td>39.173344</td>\n",
              "      <td>-86.508288</td>\n",
              "    </tr>\n",
              "    <tr>\n",
              "      <th>max</th>\n",
              "      <td>9.026394e+08</td>\n",
              "      <td>2015.000000</td>\n",
              "      <td>12.000000</td>\n",
              "      <td>7.000000</td>\n",
              "      <td>2300.000000</td>\n",
              "      <td>41.228665</td>\n",
              "      <td>86.596363</td>\n",
              "    </tr>\n",
              "  </tbody>\n",
              "</table>\n",
              "</div>"
            ],
            "text/plain": [
              "       Master Record Number          Year  ...      Latitude     Longitude\n",
              "count          5.394300e+04  53943.000000  ...  53913.000000  53913.000000\n",
              "mean           6.748119e+08   2008.968059  ...     35.582109    -78.619224\n",
              "std            3.907563e+08      3.789760  ...     11.289883     24.957587\n",
              "min            1.470500e+04   2003.000000  ...      0.000000    -88.959213\n",
              "25%            1.991074e+06   2006.000000  ...     39.142048    -86.551520\n",
              "50%            9.011241e+08   2009.000000  ...     39.164430    -86.530992\n",
              "75%            9.019039e+08   2012.000000  ...     39.173344    -86.508288\n",
              "max            9.026394e+08   2015.000000  ...     41.228665     86.596363\n",
              "\n",
              "[8 rows x 7 columns]"
            ]
          },
          "metadata": {
            "tags": []
          },
          "execution_count": 4
        }
      ]
    },
    {
      "cell_type": "code",
      "metadata": {
        "colab": {
          "base_uri": "https://localhost:8080/"
        },
        "id": "laNqSUpeLibP",
        "outputId": "ec3280cd-1273-4497-bcbc-7d8290095833"
      },
      "source": [
        "df.columns"
      ],
      "execution_count": null,
      "outputs": [
        {
          "output_type": "execute_result",
          "data": {
            "text/plain": [
              "Index(['Master Record Number', 'Year', 'Month', 'Day', 'Weekend?', 'Hour',\n",
              "       'Collision Type', 'Injury Type', 'Primary Factor', 'Reported_Location',\n",
              "       'Latitude', 'Longitude'],\n",
              "      dtype='object')"
            ]
          },
          "metadata": {
            "tags": []
          },
          "execution_count": 5
        }
      ]
    },
    {
      "cell_type": "code",
      "metadata": {
        "colab": {
          "base_uri": "https://localhost:8080/",
          "height": 136
        },
        "id": "x0jxkr7lLt0p",
        "outputId": "4312bab3-094b-4865-d1e7-9eea0120516d"
      },
      "source": [
        "df.head(3)"
      ],
      "execution_count": null,
      "outputs": [
        {
          "output_type": "execute_result",
          "data": {
            "text/html": [
              "<div>\n",
              "<style scoped>\n",
              "    .dataframe tbody tr th:only-of-type {\n",
              "        vertical-align: middle;\n",
              "    }\n",
              "\n",
              "    .dataframe tbody tr th {\n",
              "        vertical-align: top;\n",
              "    }\n",
              "\n",
              "    .dataframe thead th {\n",
              "        text-align: right;\n",
              "    }\n",
              "</style>\n",
              "<table border=\"1\" class=\"dataframe\">\n",
              "  <thead>\n",
              "    <tr style=\"text-align: right;\">\n",
              "      <th></th>\n",
              "      <th>Master Record Number</th>\n",
              "      <th>Year</th>\n",
              "      <th>Month</th>\n",
              "      <th>Day</th>\n",
              "      <th>Weekend?</th>\n",
              "      <th>Hour</th>\n",
              "      <th>Collision Type</th>\n",
              "      <th>Injury Type</th>\n",
              "      <th>Primary Factor</th>\n",
              "      <th>Reported_Location</th>\n",
              "      <th>Latitude</th>\n",
              "      <th>Longitude</th>\n",
              "    </tr>\n",
              "  </thead>\n",
              "  <tbody>\n",
              "    <tr>\n",
              "      <th>0</th>\n",
              "      <td>902363382</td>\n",
              "      <td>2015</td>\n",
              "      <td>1</td>\n",
              "      <td>5</td>\n",
              "      <td>Weekday</td>\n",
              "      <td>0.0</td>\n",
              "      <td>2-Car</td>\n",
              "      <td>No injury/unknown</td>\n",
              "      <td>OTHER (DRIVER) - EXPLAIN IN NARRATIVE</td>\n",
              "      <td>1ST &amp; FESS</td>\n",
              "      <td>39.159207</td>\n",
              "      <td>-86.525874</td>\n",
              "    </tr>\n",
              "    <tr>\n",
              "      <th>1</th>\n",
              "      <td>902364268</td>\n",
              "      <td>2015</td>\n",
              "      <td>1</td>\n",
              "      <td>6</td>\n",
              "      <td>Weekday</td>\n",
              "      <td>1500.0</td>\n",
              "      <td>2-Car</td>\n",
              "      <td>No injury/unknown</td>\n",
              "      <td>FOLLOWING TOO CLOSELY</td>\n",
              "      <td>2ND &amp; COLLEGE</td>\n",
              "      <td>39.161440</td>\n",
              "      <td>-86.534848</td>\n",
              "    </tr>\n",
              "    <tr>\n",
              "      <th>2</th>\n",
              "      <td>902364412</td>\n",
              "      <td>2015</td>\n",
              "      <td>1</td>\n",
              "      <td>6</td>\n",
              "      <td>Weekend</td>\n",
              "      <td>2300.0</td>\n",
              "      <td>2-Car</td>\n",
              "      <td>Non-incapacitating</td>\n",
              "      <td>DISREGARD SIGNAL/REG SIGN</td>\n",
              "      <td>BASSWOOD &amp; BLOOMFIELD</td>\n",
              "      <td>39.149780</td>\n",
              "      <td>-86.568890</td>\n",
              "    </tr>\n",
              "  </tbody>\n",
              "</table>\n",
              "</div>"
            ],
            "text/plain": [
              "   Master Record Number  Year  ...   Latitude  Longitude\n",
              "0             902363382  2015  ...  39.159207 -86.525874\n",
              "1             902364268  2015  ...  39.161440 -86.534848\n",
              "2             902364412  2015  ...  39.149780 -86.568890\n",
              "\n",
              "[3 rows x 12 columns]"
            ]
          },
          "metadata": {
            "tags": []
          },
          "execution_count": 6
        }
      ]
    },
    {
      "cell_type": "code",
      "metadata": {
        "id": "r-HETLpP1xiH",
        "colab": {
          "base_uri": "https://localhost:8080/",
          "height": 467
        },
        "outputId": "492836b8-8bb2-452e-aa25-5f22d24ab315"
      },
      "source": [
        "df['morning_rushhour_6am_10am'] = np.where((df[\"Hour\"]>= 600) & (df[\"Hour\"]<=1000), 1,0)\r\n",
        "df['evening_rushhour_3pm_7pm']=np.where((df[\"Hour\"]>= 1500) & (df[\"Hour\"]<=1900),1,0)\r\n",
        "df['Morning_non_rushhour_0am_6am']=np.where((df[\"Hour\"]>=0) & (df[\"Hour\"]<600),1,0)\r\n",
        "df['Noon_non_rushhour_10am_3pm']=np.where((df[\"Hour\"]>1000) & (df[\"Hour\"]<1500),1,0)\r\n",
        "df['Night_non_rushhour_7pm_0am']=np.where((df[\"Hour\"]>1900) & (df[\"Hour\"]<2400),1,0)\r\n",
        "df.head(5)"
      ],
      "execution_count": null,
      "outputs": [
        {
          "output_type": "execute_result",
          "data": {
            "text/html": [
              "<div>\n",
              "<style scoped>\n",
              "    .dataframe tbody tr th:only-of-type {\n",
              "        vertical-align: middle;\n",
              "    }\n",
              "\n",
              "    .dataframe tbody tr th {\n",
              "        vertical-align: top;\n",
              "    }\n",
              "\n",
              "    .dataframe thead th {\n",
              "        text-align: right;\n",
              "    }\n",
              "</style>\n",
              "<table border=\"1\" class=\"dataframe\">\n",
              "  <thead>\n",
              "    <tr style=\"text-align: right;\">\n",
              "      <th></th>\n",
              "      <th>Master Record Number</th>\n",
              "      <th>Year</th>\n",
              "      <th>Month</th>\n",
              "      <th>Day</th>\n",
              "      <th>Weekend?</th>\n",
              "      <th>Hour</th>\n",
              "      <th>Collision Type</th>\n",
              "      <th>Injury Type</th>\n",
              "      <th>Primary Factor</th>\n",
              "      <th>Reported_Location</th>\n",
              "      <th>Latitude</th>\n",
              "      <th>Longitude</th>\n",
              "      <th>morning_rushhour_6am_10am</th>\n",
              "      <th>evening_rushhour_3pm_7pm</th>\n",
              "      <th>Morning_non_rushhour_0am_6am</th>\n",
              "      <th>Noon_non_rushhour_10am_3pm</th>\n",
              "      <th>Night_non_rushhour_7pm_0am</th>\n",
              "    </tr>\n",
              "  </thead>\n",
              "  <tbody>\n",
              "    <tr>\n",
              "      <th>0</th>\n",
              "      <td>902363382</td>\n",
              "      <td>2015</td>\n",
              "      <td>1</td>\n",
              "      <td>5</td>\n",
              "      <td>Weekday</td>\n",
              "      <td>0.0</td>\n",
              "      <td>2-Car</td>\n",
              "      <td>No injury/unknown</td>\n",
              "      <td>OTHER (DRIVER) - EXPLAIN IN NARRATIVE</td>\n",
              "      <td>1ST &amp; FESS</td>\n",
              "      <td>39.159207</td>\n",
              "      <td>-86.525874</td>\n",
              "      <td>0</td>\n",
              "      <td>0</td>\n",
              "      <td>1</td>\n",
              "      <td>0</td>\n",
              "      <td>0</td>\n",
              "    </tr>\n",
              "    <tr>\n",
              "      <th>1</th>\n",
              "      <td>902364268</td>\n",
              "      <td>2015</td>\n",
              "      <td>1</td>\n",
              "      <td>6</td>\n",
              "      <td>Weekday</td>\n",
              "      <td>1500.0</td>\n",
              "      <td>2-Car</td>\n",
              "      <td>No injury/unknown</td>\n",
              "      <td>FOLLOWING TOO CLOSELY</td>\n",
              "      <td>2ND &amp; COLLEGE</td>\n",
              "      <td>39.161440</td>\n",
              "      <td>-86.534848</td>\n",
              "      <td>0</td>\n",
              "      <td>1</td>\n",
              "      <td>0</td>\n",
              "      <td>0</td>\n",
              "      <td>0</td>\n",
              "    </tr>\n",
              "    <tr>\n",
              "      <th>2</th>\n",
              "      <td>902364412</td>\n",
              "      <td>2015</td>\n",
              "      <td>1</td>\n",
              "      <td>6</td>\n",
              "      <td>Weekend</td>\n",
              "      <td>2300.0</td>\n",
              "      <td>2-Car</td>\n",
              "      <td>Non-incapacitating</td>\n",
              "      <td>DISREGARD SIGNAL/REG SIGN</td>\n",
              "      <td>BASSWOOD &amp; BLOOMFIELD</td>\n",
              "      <td>39.149780</td>\n",
              "      <td>-86.568890</td>\n",
              "      <td>0</td>\n",
              "      <td>0</td>\n",
              "      <td>0</td>\n",
              "      <td>0</td>\n",
              "      <td>1</td>\n",
              "    </tr>\n",
              "    <tr>\n",
              "      <th>3</th>\n",
              "      <td>902364551</td>\n",
              "      <td>2015</td>\n",
              "      <td>1</td>\n",
              "      <td>7</td>\n",
              "      <td>Weekend</td>\n",
              "      <td>900.0</td>\n",
              "      <td>2-Car</td>\n",
              "      <td>Non-incapacitating</td>\n",
              "      <td>FAILURE TO YIELD RIGHT OF WAY</td>\n",
              "      <td>GATES &amp; JACOBS</td>\n",
              "      <td>39.165655</td>\n",
              "      <td>-86.575956</td>\n",
              "      <td>1</td>\n",
              "      <td>0</td>\n",
              "      <td>0</td>\n",
              "      <td>0</td>\n",
              "      <td>0</td>\n",
              "    </tr>\n",
              "    <tr>\n",
              "      <th>4</th>\n",
              "      <td>902364615</td>\n",
              "      <td>2015</td>\n",
              "      <td>1</td>\n",
              "      <td>7</td>\n",
              "      <td>Weekend</td>\n",
              "      <td>1100.0</td>\n",
              "      <td>2-Car</td>\n",
              "      <td>No injury/unknown</td>\n",
              "      <td>FAILURE TO YIELD RIGHT OF WAY</td>\n",
              "      <td>W 3RD</td>\n",
              "      <td>39.164848</td>\n",
              "      <td>-86.579625</td>\n",
              "      <td>0</td>\n",
              "      <td>0</td>\n",
              "      <td>0</td>\n",
              "      <td>1</td>\n",
              "      <td>0</td>\n",
              "    </tr>\n",
              "  </tbody>\n",
              "</table>\n",
              "</div>"
            ],
            "text/plain": [
              "   Master Record Number  ...  Night_non_rushhour_7pm_0am\n",
              "0             902363382  ...                           0\n",
              "1             902364268  ...                           0\n",
              "2             902364412  ...                           1\n",
              "3             902364551  ...                           0\n",
              "4             902364615  ...                           0\n",
              "\n",
              "[5 rows x 17 columns]"
            ]
          },
          "metadata": {
            "tags": []
          },
          "execution_count": 7
        }
      ]
    },
    {
      "cell_type": "code",
      "metadata": {
        "colab": {
          "base_uri": "https://localhost:8080/"
        },
        "id": "Em1xeS7tFOTX",
        "outputId": "29c48f85-095e-4b47-88c4-6f2c11e546ed"
      },
      "source": [
        "df.isnull().sum()"
      ],
      "execution_count": null,
      "outputs": [
        {
          "output_type": "execute_result",
          "data": {
            "text/plain": [
              "Master Record Number               0\n",
              "Year                               0\n",
              "Month                              0\n",
              "Day                                0\n",
              "Weekend?                          68\n",
              "Hour                             225\n",
              "Collision Type                     6\n",
              "Injury Type                        0\n",
              "Primary Factor                  1121\n",
              "Reported_Location                 35\n",
              "Latitude                          30\n",
              "Longitude                         30\n",
              "morning_rushhour_6am_10am          0\n",
              "evening_rushhour_3pm_7pm           0\n",
              "Morning_non_rushhour_0am_6am       0\n",
              "Noon_non_rushhour_10am_3pm         0\n",
              "Night_non_rushhour_7pm_0am         0\n",
              "dtype: int64"
            ]
          },
          "metadata": {
            "tags": []
          },
          "execution_count": 8
        }
      ]
    },
    {
      "cell_type": "code",
      "metadata": {
        "colab": {
          "base_uri": "https://localhost:8080/"
        },
        "id": "bCuzmBKt-Yj-",
        "outputId": "bfef4a7a-6b54-4e3a-d903-9dbda032de7e"
      },
      "source": [
        "df.columns"
      ],
      "execution_count": null,
      "outputs": [
        {
          "output_type": "execute_result",
          "data": {
            "text/plain": [
              "Index(['Master Record Number', 'Year', 'Month', 'Day', 'Weekend?', 'Hour',\n",
              "       'Collision Type', 'Injury Type', 'Primary Factor', 'Reported_Location',\n",
              "       'Latitude', 'Longitude', 'morning_rushhour_6am_10am',\n",
              "       'evening_rushhour_3pm_7pm', 'Morning_non_rushhour_0am_6am',\n",
              "       'Noon_non_rushhour_10am_3pm', 'Night_non_rushhour_7pm_0am'],\n",
              "      dtype='object')"
            ]
          },
          "metadata": {
            "tags": []
          },
          "execution_count": 9
        }
      ]
    },
    {
      "cell_type": "code",
      "metadata": {
        "colab": {
          "base_uri": "https://localhost:8080/"
        },
        "id": "0q2TM4DF7l-i",
        "outputId": "cd4cda75-1588-4b0e-dbeb-ee2a550318c4"
      },
      "source": [
        "print(df.size)\r\n",
        "\r\n",
        "# Drop `NaN` rows\r\n",
        "clean_project = df.dropna()\r\n",
        "\r\n",
        "# Print the size of the modified DataFrame\r\n",
        "print(clean_project.size)"
      ],
      "execution_count": null,
      "outputs": [
        {
          "output_type": "stream",
          "text": [
            "917031\n",
            "893894\n"
          ],
          "name": "stdout"
        }
      ]
    },
    {
      "cell_type": "code",
      "metadata": {
        "colab": {
          "base_uri": "https://localhost:8080/",
          "height": 278
        },
        "id": "YII8V9bjH0vX",
        "outputId": "ecaead31-9370-466f-e3cf-140ca8108ff6"
      },
      "source": [
        "pd.set_option('display.max_rows', None)\r\n",
        "clean_project.groupby(['Year', 'Hour'])['morning_rushhour_6am_10am', 'evening_rushhour_3pm_7pm'].agg(['count'])\r\n",
        "clean_project.head(2)"
      ],
      "execution_count": null,
      "outputs": [
        {
          "output_type": "stream",
          "text": [
            "/usr/local/lib/python3.6/dist-packages/ipykernel_launcher.py:2: FutureWarning: Indexing with multiple keys (implicitly converted to a tuple of keys) will be deprecated, use a list instead.\n",
            "  \n"
          ],
          "name": "stderr"
        },
        {
          "output_type": "execute_result",
          "data": {
            "text/html": [
              "<div>\n",
              "<style scoped>\n",
              "    .dataframe tbody tr th:only-of-type {\n",
              "        vertical-align: middle;\n",
              "    }\n",
              "\n",
              "    .dataframe tbody tr th {\n",
              "        vertical-align: top;\n",
              "    }\n",
              "\n",
              "    .dataframe thead th {\n",
              "        text-align: right;\n",
              "    }\n",
              "</style>\n",
              "<table border=\"1\" class=\"dataframe\">\n",
              "  <thead>\n",
              "    <tr style=\"text-align: right;\">\n",
              "      <th></th>\n",
              "      <th>Master Record Number</th>\n",
              "      <th>Year</th>\n",
              "      <th>Month</th>\n",
              "      <th>Day</th>\n",
              "      <th>Weekend?</th>\n",
              "      <th>Hour</th>\n",
              "      <th>Collision Type</th>\n",
              "      <th>Injury Type</th>\n",
              "      <th>Primary Factor</th>\n",
              "      <th>Reported_Location</th>\n",
              "      <th>Latitude</th>\n",
              "      <th>Longitude</th>\n",
              "      <th>morning_rushhour_6am_10am</th>\n",
              "      <th>evening_rushhour_3pm_7pm</th>\n",
              "      <th>Morning_non_rushhour_0am_6am</th>\n",
              "      <th>Noon_non_rushhour_10am_3pm</th>\n",
              "      <th>Night_non_rushhour_7pm_0am</th>\n",
              "    </tr>\n",
              "  </thead>\n",
              "  <tbody>\n",
              "    <tr>\n",
              "      <th>0</th>\n",
              "      <td>902363382</td>\n",
              "      <td>2015</td>\n",
              "      <td>1</td>\n",
              "      <td>5</td>\n",
              "      <td>Weekday</td>\n",
              "      <td>0.0</td>\n",
              "      <td>2-Car</td>\n",
              "      <td>No injury/unknown</td>\n",
              "      <td>OTHER (DRIVER) - EXPLAIN IN NARRATIVE</td>\n",
              "      <td>1ST &amp; FESS</td>\n",
              "      <td>39.159207</td>\n",
              "      <td>-86.525874</td>\n",
              "      <td>0</td>\n",
              "      <td>0</td>\n",
              "      <td>1</td>\n",
              "      <td>0</td>\n",
              "      <td>0</td>\n",
              "    </tr>\n",
              "    <tr>\n",
              "      <th>1</th>\n",
              "      <td>902364268</td>\n",
              "      <td>2015</td>\n",
              "      <td>1</td>\n",
              "      <td>6</td>\n",
              "      <td>Weekday</td>\n",
              "      <td>1500.0</td>\n",
              "      <td>2-Car</td>\n",
              "      <td>No injury/unknown</td>\n",
              "      <td>FOLLOWING TOO CLOSELY</td>\n",
              "      <td>2ND &amp; COLLEGE</td>\n",
              "      <td>39.161440</td>\n",
              "      <td>-86.534848</td>\n",
              "      <td>0</td>\n",
              "      <td>1</td>\n",
              "      <td>0</td>\n",
              "      <td>0</td>\n",
              "      <td>0</td>\n",
              "    </tr>\n",
              "  </tbody>\n",
              "</table>\n",
              "</div>"
            ],
            "text/plain": [
              "   Master Record Number  ...  Night_non_rushhour_7pm_0am\n",
              "0             902363382  ...                           0\n",
              "1             902364268  ...                           0\n",
              "\n",
              "[2 rows x 17 columns]"
            ]
          },
          "metadata": {
            "tags": []
          },
          "execution_count": 11
        }
      ]
    },
    {
      "cell_type": "code",
      "metadata": {
        "id": "eckEcNSvUzGw",
        "colab": {
          "base_uri": "https://localhost:8080/",
          "height": 571
        },
        "outputId": "cf1da575-458e-493d-d66f-ee92fdf3ba26"
      },
      "source": [
        "piv1=pd.pivot_table(clean_project,index=[\"Primary Factor\"], values=[\"morning_rushhour_6am_10am\", \"evening_rushhour_3pm_7pm\",\"Morning_non_rushhour_0am_6am\",\"Noon_non_rushhour_10am_3pm\",\"Night_non_rushhour_7pm_0am\"],  aggfunc={\"morning_rushhour_6am_10am\":np.sum,\"evening_rushhour_3pm_7pm\":np.sum,\"Morning_non_rushhour_0am_6am\":np.sum,\"Noon_non_rushhour_10am_3pm\":np.sum,\"Night_non_rushhour_7pm_0am\":np.sum})\r\n",
        "piv1['total']=piv1['morning_rushhour_6am_10am'] + piv1['evening_rushhour_3pm_7pm'] + piv1['Morning_non_rushhour_0am_6am'] + piv1['Night_non_rushhour_7pm_0am'] + piv1['Noon_non_rushhour_10am_3pm']\r\n",
        "pd.options.display.float_format = '{:.0f}'.format\r\n",
        "piv1.sort_values(by=[\"total\"]).tail(15)\r\n"
      ],
      "execution_count": null,
      "outputs": [
        {
          "output_type": "execute_result",
          "data": {
            "text/html": [
              "<div>\n",
              "<style scoped>\n",
              "    .dataframe tbody tr th:only-of-type {\n",
              "        vertical-align: middle;\n",
              "    }\n",
              "\n",
              "    .dataframe tbody tr th {\n",
              "        vertical-align: top;\n",
              "    }\n",
              "\n",
              "    .dataframe thead th {\n",
              "        text-align: right;\n",
              "    }\n",
              "</style>\n",
              "<table border=\"1\" class=\"dataframe\">\n",
              "  <thead>\n",
              "    <tr style=\"text-align: right;\">\n",
              "      <th></th>\n",
              "      <th>Morning_non_rushhour_0am_6am</th>\n",
              "      <th>Night_non_rushhour_7pm_0am</th>\n",
              "      <th>Noon_non_rushhour_10am_3pm</th>\n",
              "      <th>evening_rushhour_3pm_7pm</th>\n",
              "      <th>morning_rushhour_6am_10am</th>\n",
              "      <th>total</th>\n",
              "    </tr>\n",
              "    <tr>\n",
              "      <th>Primary Factor</th>\n",
              "      <th></th>\n",
              "      <th></th>\n",
              "      <th></th>\n",
              "      <th></th>\n",
              "      <th></th>\n",
              "      <th></th>\n",
              "    </tr>\n",
              "  </thead>\n",
              "  <tbody>\n",
              "    <tr>\n",
              "      <th>ALCOHOLIC BEVERAGES</th>\n",
              "      <td>392</td>\n",
              "      <td>196</td>\n",
              "      <td>42</td>\n",
              "      <td>137</td>\n",
              "      <td>31</td>\n",
              "      <td>798</td>\n",
              "    </tr>\n",
              "    <tr>\n",
              "      <th>IMPROPER LANE USAGE</th>\n",
              "      <td>77</td>\n",
              "      <td>123</td>\n",
              "      <td>288</td>\n",
              "      <td>358</td>\n",
              "      <td>132</td>\n",
              "      <td>978</td>\n",
              "    </tr>\n",
              "    <tr>\n",
              "      <th>LEFT OF CENTER</th>\n",
              "      <td>86</td>\n",
              "      <td>135</td>\n",
              "      <td>253</td>\n",
              "      <td>341</td>\n",
              "      <td>256</td>\n",
              "      <td>1071</td>\n",
              "    </tr>\n",
              "    <tr>\n",
              "      <th>ROADWAY SURFACE CONDITION</th>\n",
              "      <td>116</td>\n",
              "      <td>188</td>\n",
              "      <td>219</td>\n",
              "      <td>347</td>\n",
              "      <td>391</td>\n",
              "      <td>1261</td>\n",
              "    </tr>\n",
              "    <tr>\n",
              "      <th>UNSAFE SPEED</th>\n",
              "      <td>201</td>\n",
              "      <td>199</td>\n",
              "      <td>359</td>\n",
              "      <td>458</td>\n",
              "      <td>275</td>\n",
              "      <td>1492</td>\n",
              "    </tr>\n",
              "    <tr>\n",
              "      <th>DRIVER DISTRACTED - EXPLAIN IN NARRATIVE</th>\n",
              "      <td>68</td>\n",
              "      <td>171</td>\n",
              "      <td>427</td>\n",
              "      <td>691</td>\n",
              "      <td>295</td>\n",
              "      <td>1652</td>\n",
              "    </tr>\n",
              "    <tr>\n",
              "      <th>ANIMAL/OBJECT IN ROADWAY</th>\n",
              "      <td>389</td>\n",
              "      <td>471</td>\n",
              "      <td>93</td>\n",
              "      <td>377</td>\n",
              "      <td>356</td>\n",
              "      <td>1686</td>\n",
              "    </tr>\n",
              "    <tr>\n",
              "      <th>IMPROPER TURNING</th>\n",
              "      <td>117</td>\n",
              "      <td>272</td>\n",
              "      <td>497</td>\n",
              "      <td>683</td>\n",
              "      <td>267</td>\n",
              "      <td>1836</td>\n",
              "    </tr>\n",
              "    <tr>\n",
              "      <th>SPEED TOO FAST FOR WEATHER CONDITIONS</th>\n",
              "      <td>180</td>\n",
              "      <td>265</td>\n",
              "      <td>398</td>\n",
              "      <td>625</td>\n",
              "      <td>449</td>\n",
              "      <td>1917</td>\n",
              "    </tr>\n",
              "    <tr>\n",
              "      <th>DISREGARD SIGNAL/REG SIGN</th>\n",
              "      <td>130</td>\n",
              "      <td>252</td>\n",
              "      <td>623</td>\n",
              "      <td>718</td>\n",
              "      <td>478</td>\n",
              "      <td>2201</td>\n",
              "    </tr>\n",
              "    <tr>\n",
              "      <th>RAN OFF ROAD RIGHT</th>\n",
              "      <td>729</td>\n",
              "      <td>491</td>\n",
              "      <td>462</td>\n",
              "      <td>660</td>\n",
              "      <td>577</td>\n",
              "      <td>2919</td>\n",
              "    </tr>\n",
              "    <tr>\n",
              "      <th>UNSAFE BACKING</th>\n",
              "      <td>321</td>\n",
              "      <td>632</td>\n",
              "      <td>1638</td>\n",
              "      <td>1737</td>\n",
              "      <td>838</td>\n",
              "      <td>5166</td>\n",
              "    </tr>\n",
              "    <tr>\n",
              "      <th>OTHER (DRIVER) - EXPLAIN IN NARRATIVE</th>\n",
              "      <td>512</td>\n",
              "      <td>622</td>\n",
              "      <td>1781</td>\n",
              "      <td>1894</td>\n",
              "      <td>1261</td>\n",
              "      <td>6070</td>\n",
              "    </tr>\n",
              "    <tr>\n",
              "      <th>FOLLOWING TOO CLOSELY</th>\n",
              "      <td>93</td>\n",
              "      <td>544</td>\n",
              "      <td>2124</td>\n",
              "      <td>3485</td>\n",
              "      <td>1099</td>\n",
              "      <td>7345</td>\n",
              "    </tr>\n",
              "    <tr>\n",
              "      <th>FAILURE TO YIELD RIGHT OF WAY</th>\n",
              "      <td>318</td>\n",
              "      <td>1071</td>\n",
              "      <td>3378</td>\n",
              "      <td>4485</td>\n",
              "      <td>1923</td>\n",
              "      <td>11175</td>\n",
              "    </tr>\n",
              "  </tbody>\n",
              "</table>\n",
              "</div>"
            ],
            "text/plain": [
              "                                          Morning_non_rushhour_0am_6am  ...  total\n",
              "Primary Factor                                                          ...       \n",
              "ALCOHOLIC BEVERAGES                                                392  ...    798\n",
              "IMPROPER LANE USAGE                                                 77  ...    978\n",
              "LEFT OF CENTER                                                      86  ...   1071\n",
              "ROADWAY SURFACE CONDITION                                          116  ...   1261\n",
              "UNSAFE SPEED                                                       201  ...   1492\n",
              "DRIVER DISTRACTED - EXPLAIN IN NARRATIVE                            68  ...   1652\n",
              "ANIMAL/OBJECT IN ROADWAY                                           389  ...   1686\n",
              "IMPROPER TURNING                                                   117  ...   1836\n",
              "SPEED TOO FAST FOR WEATHER CONDITIONS                              180  ...   1917\n",
              "DISREGARD SIGNAL/REG SIGN                                          130  ...   2201\n",
              "RAN OFF ROAD RIGHT                                                 729  ...   2919\n",
              "UNSAFE BACKING                                                     321  ...   5166\n",
              "OTHER (DRIVER) - EXPLAIN IN NARRATIVE                              512  ...   6070\n",
              "FOLLOWING TOO CLOSELY                                               93  ...   7345\n",
              "FAILURE TO YIELD RIGHT OF WAY                                      318  ...  11175\n",
              "\n",
              "[15 rows x 6 columns]"
            ]
          },
          "metadata": {
            "tags": []
          },
          "execution_count": 12
        }
      ]
    },
    {
      "cell_type": "code",
      "metadata": {
        "colab": {
          "base_uri": "https://localhost:8080/",
          "height": 611
        },
        "id": "V5LjFak2-Uli",
        "outputId": "15393dea-98bb-40c9-b39e-f2e299a23f7a"
      },
      "source": [
        "piv1.sort_values(by=[\"total\"]).tail(5).plot(kind='bar',figsize=(10,6))\r\n",
        "plt.xlabel(\"Primary Factor\", labelpad=14)\r\n",
        "plt.ylabel(\"Total Accidents\", labelpad=14)\r\n",
        "plt.title(\"Accidents caused by Top 10 Primary Factors at different times of the day\", y=1);"
      ],
      "execution_count": null,
      "outputs": [
        {
          "output_type": "display_data",
          "data": {
            "image/png": "[encoded data removed]",
            "text/plain": [
              "<Figure size 720x432 with 1 Axes>"
            ]
          },
          "metadata": {
            "tags": [],
            "needs_background": "light"
          }
        }
      ]
    },
    {
      "cell_type": "markdown",
      "metadata": {
        "id": "Ky4FGY3cXuJr"
      },
      "source": [
        "**Top 3 reasons for the highest number of accidents:**"
      ]
    },
    {
      "cell_type": "code",
      "metadata": {
        "id": "9v-X2HH5ZbSk",
        "colab": {
          "base_uri": "https://localhost:8080/",
          "height": 714
        },
        "outputId": "12dd49fe-a161-43d5-c93f-480b403277c8"
      },
      "source": [
        "sns.set(font_scale=1.2)\r\n",
        "clean_project['Primary Factor'].value_counts().head(10).plot(kind='bar', figsize=(10, 6))\r\n",
        "plt.xlabel(\"Primary Factor\", labelpad=14)\r\n",
        "plt.ylabel(\"Total Accidents\", labelpad=14)\r\n",
        "plt.title(\"Maximum Number of Accidents caused by Top 10 Primary Factors\", y=1);"
      ],
      "execution_count": null,
      "outputs": [
        {
          "output_type": "display_data",
          "data": {
            "image/png": "[encoded data removed]",
            "text/plain": [
              "<Figure size 720x432 with 1 Axes>"
            ]
          },
          "metadata": {
            "tags": []
          }
        }
      ]
    },
    {
      "cell_type": "markdown",
      "metadata": {
        "id": "--dmAAYUWvmv"
      },
      "source": [
        "**Top 3 resons for highest number of accidents are:**\r\n",
        "**1. Failure to yield right of way**\r\n",
        "**2. Following too closely**\r\n",
        "**3. Other (driver)**"
      ]
    },
    {
      "cell_type": "markdown",
      "metadata": {
        "id": "s-19UJfeYPbI"
      },
      "source": [
        "**Top 5 reasons for Fatal accidents:**"
      ]
    },
    {
      "cell_type": "code",
      "metadata": {
        "id": "Wu0K6hZEa_Dc",
        "colab": {
          "base_uri": "https://localhost:8080/",
          "height": 686
        },
        "outputId": "20b11753-9723-4cc0-d736-0b184f8a6fe3"
      },
      "source": [
        "clean_project[(clean_project['Injury Type'] == 'Fatal')]['Primary Factor'].value_counts().head(10).plot(kind='bar', figsize=(10, 6))\r\n",
        "plt.xlabel(\"Primary Factor\", labelpad=14)\r\n",
        "plt.ylabel(\"Total Fatal Accidents\", labelpad=14)\r\n",
        "plt.title(\"Maximum Number of Fatal Accidents caused by Top 10 Primary Factors\", y=1);"
      ],
      "execution_count": null,
      "outputs": [
        {
          "output_type": "display_data",
          "data": {
            "image/png": "[encoded data removed]",
            "text/plain": [
              "<Figure size 720x432 with 1 Axes>"
            ]
          },
          "metadata": {
            "tags": []
          }
        }
      ]
    },
    {
      "cell_type": "markdown",
      "metadata": {
        "id": "CULmhs40eQGA"
      },
      "source": [
        "**Top 5 reasons are: ** \r\n",
        "**1. Ran off road right**\r\n",
        "**2. Left of center**\r\n",
        "**3. Unsafe speed**\r\n",
        "**4. Failure to yield right of way**\r\n",
        "**5. Pedestrain action**"
      ]
    },
    {
      "cell_type": "markdown",
      "metadata": {
        "id": "489T5OSle1Ft"
      },
      "source": [
        "**Top 5 reasons for Incapacitating accidents:**"
      ]
    },
    {
      "cell_type": "code",
      "metadata": {
        "id": "8crvq5RkeRLQ",
        "colab": {
          "base_uri": "https://localhost:8080/"
        },
        "outputId": "dbdafeed-6b86-40b1-e306-ef8297df6fdf"
      },
      "source": [
        "clean_project[(clean_project['Injury Type'] == 'Incapacitating')]['Primary Factor'].value_counts()"
      ],
      "execution_count": null,
      "outputs": [
        {
          "output_type": "execute_result",
          "data": {
            "text/plain": [
              "FAILURE TO YIELD RIGHT OF WAY               270\n",
              "RAN OFF ROAD RIGHT                          129\n",
              "FOLLOWING TOO CLOSELY                       127\n",
              "OTHER (DRIVER) - EXPLAIN IN NARRATIVE        75\n",
              "DISREGARD SIGNAL/REG SIGN                    66\n",
              "LEFT OF CENTER                               61\n",
              "PEDESTRIAN ACTION                            46\n",
              "UNSAFE SPEED                                 45\n",
              "SPEED TOO FAST FOR WEATHER CONDITIONS        32\n",
              "ALCOHOLIC BEVERAGES                          26\n",
              "DRIVER DISTRACTED - EXPLAIN IN NARRATIVE     26\n",
              "DRIVER ILLNESS                               24\n",
              "IMPROPER TURNING                             24\n",
              "ANIMAL/OBJECT IN ROADWAY                     17\n",
              "OVERCORRECTING/OVERSTEERING                  17\n",
              "ROADWAY SURFACE CONDITION                    16\n",
              "UNSAFE LANE MOVEMENT                         11\n",
              "IMPROPER PASSING                             10\n",
              "DRIVER ASLEEP OR FATIGUED                     8\n",
              "OTHER (VEHICLE) - EXPLAIN IN NARRATIVE        8\n",
              "UNSAFE BACKING                                8\n",
              "BRAKE FAILURE OR DEFECTIVE                    7\n",
              "IMPROPER LANE USAGE                           4\n",
              "WRONG WAY ON ONE WAY                          3\n",
              "ACCELERATOR FAILURE OR DEFECTIVE              3\n",
              "OTHER (ENVIRONMENTAL) - EXPLAIN IN NARR       3\n",
              "PRESCRIPTION DRUGS                            2\n",
              "CELL PHONE USAGE                              2\n",
              "OBSTRUCTION NOT MARKED                        2\n",
              "PASSENGER DISTRACTION                         1\n",
              "ENGINE FAILURE OR DEFECTIVE                   1\n",
              "NONE (DRIVER)                                 1\n",
              "NONE (ENVIRONMENTAL)                          1\n",
              "Name: Primary Factor, dtype: int64"
            ]
          },
          "metadata": {
            "tags": []
          },
          "execution_count": 16
        }
      ]
    },
    {
      "cell_type": "markdown",
      "metadata": {
        "id": "YlR0FNwze9fJ"
      },
      "source": [
        "Top 5 reasons for Incapacitating accidents are:\r\n",
        "1. Failure to yield right of way\r\n",
        "2. Ran off road right\r\n",
        "3. Following too closely\r\n",
        "4. Other (driver)\r\n",
        "5. Disregard signal/Red sign "
      ]
    },
    {
      "cell_type": "code",
      "metadata": {
        "id": "UoUvDgjnE0Zo"
      },
      "source": [
        "def series_statistics(column):\r\n",
        "  print('statistics for column: {}'.format(column.name))\r\n",
        "  print('The max value in the column: {}'.format(column.max()))\r\n",
        "  print('The min value in the column: {}'.format(column.min()))\r\n",
        "  print('The mode value in the column: {}'.format(column.mode()))\r\n",
        "  print('The median value in the column: {}'.format(column.median()))\r\n",
        "  print('The mean of the column: {}'.format(column.mean()))\r\n",
        "  print('The std of the column: {}'.format(column.std()))"
      ],
      "execution_count": null,
      "outputs": []
    },
    {
      "cell_type": "markdown",
      "metadata": {
        "id": "BxWKY1-vmxwE"
      },
      "source": [
        "**Is there any correlation between non-rush hour or rush hour driving with total accidents?**"
      ]
    },
    {
      "cell_type": "code",
      "metadata": {
        "colab": {
          "base_uri": "https://localhost:8080/"
        },
        "id": "yvVoG5Ucl6gq",
        "outputId": "847a7180-1eca-4f36-fcc6-17e95d51a6c0"
      },
      "source": [
        "piv1['Noon_non_rushhour_10am_3pm'].corr(piv1['total'])"
      ],
      "execution_count": null,
      "outputs": [
        {
          "output_type": "execute_result",
          "data": {
            "text/plain": [
              "0.989758058486509"
            ]
          },
          "metadata": {
            "tags": []
          },
          "execution_count": 18
        }
      ]
    },
    {
      "cell_type": "code",
      "metadata": {
        "colab": {
          "base_uri": "https://localhost:8080/"
        },
        "id": "ULYaFlDUm_dF",
        "outputId": "d1f35dd9-1d00-499a-caa4-a8725d6d4896"
      },
      "source": [
        "piv1['Night_non_rushhour_7pm_0am'].corr(piv1['total'])"
      ],
      "execution_count": null,
      "outputs": [
        {
          "output_type": "execute_result",
          "data": {
            "text/plain": [
              "0.9568843772376162"
            ]
          },
          "metadata": {
            "tags": []
          },
          "execution_count": 19
        }
      ]
    },
    {
      "cell_type": "code",
      "metadata": {
        "colab": {
          "base_uri": "https://localhost:8080/"
        },
        "id": "p_Ni79D0nOHA",
        "outputId": "f516884a-4546-4cf5-ad07-cacdd15c93c5"
      },
      "source": [
        "piv1['Morning_non_rushhour_0am_6am'].corr(piv1['total'])"
      ],
      "execution_count": null,
      "outputs": [
        {
          "output_type": "execute_result",
          "data": {
            "text/plain": [
              "0.6106222529352944"
            ]
          },
          "metadata": {
            "tags": []
          },
          "execution_count": 20
        }
      ]
    },
    {
      "cell_type": "code",
      "metadata": {
        "colab": {
          "base_uri": "https://localhost:8080/"
        },
        "id": "din4xxSznVxo",
        "outputId": "e2d07445-9a02-40dd-fc12-26b8abfa4005"
      },
      "source": [
        "piv1['evening_rushhour_3pm_7pm'].corr(piv1['total'])"
      ],
      "execution_count": null,
      "outputs": [
        {
          "output_type": "execute_result",
          "data": {
            "text/plain": [
              "0.9849469290470932"
            ]
          },
          "metadata": {
            "tags": []
          },
          "execution_count": 21
        }
      ]
    },
    {
      "cell_type": "code",
      "metadata": {
        "colab": {
          "base_uri": "https://localhost:8080/"
        },
        "id": "rpUqQMtDniGg",
        "outputId": "00f7e669-0ca1-451a-afbf-73b583824166"
      },
      "source": [
        "piv1['morning_rushhour_6am_10am'].corr(piv1['total'])"
      ],
      "execution_count": null,
      "outputs": [
        {
          "output_type": "execute_result",
          "data": {
            "text/plain": [
              "0.9884231162639441"
            ]
          },
          "metadata": {
            "tags": []
          },
          "execution_count": 22
        }
      ]
    },
    {
      "cell_type": "markdown",
      "metadata": {
        "id": "Jr9GN8Y1npO7"
      },
      "source": [
        "***Based on the correlation coefficient, total number of accidents do not have any correlation with early morning hour driving (0am-6am) and the rest of the driving has positive correlation with total number of accidents***"
      ]
    },
    {
      "cell_type": "code",
      "metadata": {
        "colab": {
          "base_uri": "https://localhost:8080/",
          "height": 195
        },
        "id": "py9Zc4WfJzRa",
        "outputId": "706fd762-3c68-4c2a-e975-fd2b23b72590"
      },
      "source": [
        "data = [['evening_rushhour_3pm_7pm & total', 0.9849469, 'Positive'], ['morning_rushhour_6am_10am & total', 0.988423,'Positive'],['Morning_non_rushhour_0am_6am & total', 0.6106222, 'Weak'], ['Night_non_rushhour_7pm_0am & total', 0.95688, 'Positive'], ['Noon_non_rushhour_10am_3pm & total', 0.989758, 'Positive']]\r\n",
        "pd.options.display.float_format = '{:,.4f}'.format\r\n",
        "pd.DataFrame(data, columns=[\"Time and total number\", \"Correlation Coefficient\", \"Correlation\"])"
      ],
      "execution_count": null,
      "outputs": [
        {
          "output_type": "execute_result",
          "data": {
            "text/html": [
              "<div>\n",
              "<style scoped>\n",
              "    .dataframe tbody tr th:only-of-type {\n",
              "        vertical-align: middle;\n",
              "    }\n",
              "\n",
              "    .dataframe tbody tr th {\n",
              "        vertical-align: top;\n",
              "    }\n",
              "\n",
              "    .dataframe thead th {\n",
              "        text-align: right;\n",
              "    }\n",
              "</style>\n",
              "<table border=\"1\" class=\"dataframe\">\n",
              "  <thead>\n",
              "    <tr style=\"text-align: right;\">\n",
              "      <th></th>\n",
              "      <th>Time and total number</th>\n",
              "      <th>Correlation Coefficient</th>\n",
              "      <th>Correlation</th>\n",
              "    </tr>\n",
              "  </thead>\n",
              "  <tbody>\n",
              "    <tr>\n",
              "      <th>0</th>\n",
              "      <td>evening_rushhour_3pm_7pm &amp; total</td>\n",
              "      <td>0.9849</td>\n",
              "      <td>Positive</td>\n",
              "    </tr>\n",
              "    <tr>\n",
              "      <th>1</th>\n",
              "      <td>morning_rushhour_6am_10am &amp; total</td>\n",
              "      <td>0.9884</td>\n",
              "      <td>Positive</td>\n",
              "    </tr>\n",
              "    <tr>\n",
              "      <th>2</th>\n",
              "      <td>Morning_non_rushhour_0am_6am &amp; total</td>\n",
              "      <td>0.6106</td>\n",
              "      <td>Weak</td>\n",
              "    </tr>\n",
              "    <tr>\n",
              "      <th>3</th>\n",
              "      <td>Night_non_rushhour_7pm_0am &amp; total</td>\n",
              "      <td>0.9569</td>\n",
              "      <td>Positive</td>\n",
              "    </tr>\n",
              "    <tr>\n",
              "      <th>4</th>\n",
              "      <td>Noon_non_rushhour_10am_3pm &amp; total</td>\n",
              "      <td>0.9898</td>\n",
              "      <td>Positive</td>\n",
              "    </tr>\n",
              "  </tbody>\n",
              "</table>\n",
              "</div>"
            ],
            "text/plain": [
              "                  Time and total number  Correlation Coefficient Correlation\n",
              "0      evening_rushhour_3pm_7pm & total                   0.9849    Positive\n",
              "1     morning_rushhour_6am_10am & total                   0.9884    Positive\n",
              "2  Morning_non_rushhour_0am_6am & total                   0.6106        Weak\n",
              "3    Night_non_rushhour_7pm_0am & total                   0.9569    Positive\n",
              "4    Noon_non_rushhour_10am_3pm & total                   0.9898    Positive"
            ]
          },
          "metadata": {
            "tags": []
          },
          "execution_count": 23
        }
      ]
    },
    {
      "cell_type": "markdown",
      "metadata": {
        "id": "g3T3eRWasVPn"
      },
      "source": [
        "# Hypothesis Testing:\r\n",
        "**Is there any significant difference in total accidents between morning rush hour (6am-10am) and morning non-rush hour (0am-6am)?**"
      ]
    },
    {
      "cell_type": "code",
      "metadata": {
        "id": "35BWJOAYTGDi",
        "colab": {
          "base_uri": "https://localhost:8080/"
        },
        "outputId": "6672e532-52fb-4e92-81a3-db1c986578fd"
      },
      "source": [
        "stats.ttest_ind(piv1['morning_rushhour_6am_10am'], piv1['Morning_non_rushhour_0am_6am'])"
      ],
      "execution_count": null,
      "outputs": [
        {
          "output_type": "execute_result",
          "data": {
            "text/plain": [
              "Ttest_indResult(statistic=1.880679428941098, pvalue=0.06270928827587607)"
            ]
          },
          "metadata": {
            "tags": []
          },
          "execution_count": 24
        }
      ]
    },
    {
      "cell_type": "markdown",
      "metadata": {
        "id": "agVPJR5VsptD"
      },
      "source": [
        "**Answer 1. The difference between two means is 1.88 standard deviations and p-value > 0.05. So there is no significant difference between morning rush hour and morning non-rush hour**"
      ]
    },
    {
      "cell_type": "code",
      "metadata": {
        "colab": {
          "base_uri": "https://localhost:8080/"
        },
        "id": "x-xKBEJGtYGs",
        "outputId": "14f07264-1952-4762-9d22-8660bda3baa5"
      },
      "source": [
        "stats.ttest_ind(piv1['morning_rushhour_6am_10am'], piv1['evening_rushhour_3pm_7pm'])"
      ],
      "execution_count": null,
      "outputs": [
        {
          "output_type": "execute_result",
          "data": {
            "text/plain": [
              "Ttest_indResult(statistic=-1.3874685405385154, pvalue=0.1681552439536668)"
            ]
          },
          "metadata": {
            "tags": []
          },
          "execution_count": 25
        }
      ]
    },
    {
      "cell_type": "markdown",
      "metadata": {
        "id": "_euCvDGktlOd"
      },
      "source": [
        "**Answer2. The difference between two means is 1.38 standard deviations and p-value > 0.05. So there is no significant difference between morning rush hour and evening rush hour**"
      ]
    },
    {
      "cell_type": "code",
      "metadata": {
        "colab": {
          "base_uri": "https://localhost:8080/"
        },
        "id": "HEsxmjkFtuTw",
        "outputId": "2a015fc4-0279-4640-9342-e3bf8a08b5ed"
      },
      "source": [
        "stats.ttest_ind(piv1['Morning_non_rushhour_0am_6am'], piv1['evening_rushhour_3pm_7pm'])"
      ],
      "execution_count": null,
      "outputs": [
        {
          "output_type": "execute_result",
          "data": {
            "text/plain": [
              "Ttest_indResult(statistic=-2.374047375180191, pvalue=0.019360088055147263)"
            ]
          },
          "metadata": {
            "tags": []
          },
          "execution_count": 26
        }
      ]
    },
    {
      "cell_type": "markdown",
      "metadata": {
        "id": "jRYm7iLRt9P7"
      },
      "source": [
        "**Since p-value is <0.05, there is a significnt difference in total accidents between morning non-rush hour (0am-6am) and evening rush hour (3pm-7pm)**"
      ]
    },
    {
      "cell_type": "code",
      "metadata": {
        "id": "_ExKDOeNWWAL"
      },
      "source": [
        "Weekday_driving = clean_project.iloc[(clean_project['Weekend?'] == 'Weekday').values]"
      ],
      "execution_count": null,
      "outputs": []
    },
    {
      "cell_type": "code",
      "metadata": {
        "id": "QDwbZ7o7x-iW"
      },
      "source": [
        "Weekend_driving = clean_project.iloc[(clean_project['Weekend?'] == 'Weekend').values]\r\n",
        "#Weekend_driving.info()"
      ],
      "execution_count": null,
      "outputs": []
    },
    {
      "cell_type": "code",
      "metadata": {
        "colab": {
          "base_uri": "https://localhost:8080/"
        },
        "id": "hjOzqgrxxK5k",
        "outputId": "160b8bc1-899c-43e7-baa4-f2d9e3730e46"
      },
      "source": [
        "stats.ttest_ind(Weekend_driving['morning_rushhour_6am_10am'], Weekday_driving['morning_rushhour_6am_10am'])"
      ],
      "execution_count": null,
      "outputs": [
        {
          "output_type": "execute_result",
          "data": {
            "text/plain": [
              "Ttest_indResult(statistic=-19.84559945166534, pvalue=2.5150332606835786e-87)"
            ]
          },
          "metadata": {
            "tags": []
          },
          "execution_count": 29
        }
      ]
    },
    {
      "cell_type": "markdown",
      "metadata": {
        "id": "5pk-iSS36HzG"
      },
      "source": [
        "**There is a significant difference between Weekday and Weekend total accidents occuring during morning rush hour (6am-10am) as p<0.05**\r\n",
        "\r\n"
      ]
    },
    {
      "cell_type": "code",
      "metadata": {
        "colab": {
          "base_uri": "https://localhost:8080/"
        },
        "id": "E0FRYPnn7erL",
        "outputId": "f11ad3f6-17d6-4e79-92c8-a330ecbbae92"
      },
      "source": [
        "stats.ttest_ind(Weekend_driving['evening_rushhour_3pm_7pm'], Weekday_driving['evening_rushhour_3pm_7pm'])"
      ],
      "execution_count": null,
      "outputs": [
        {
          "output_type": "execute_result",
          "data": {
            "text/plain": [
              "Ttest_indResult(statistic=-15.320615183151881, pvalue=7.24692724804376e-53)"
            ]
          },
          "metadata": {
            "tags": []
          },
          "execution_count": 30
        }
      ]
    },
    {
      "cell_type": "markdown",
      "metadata": {
        "id": "UKQurir7D2aF"
      },
      "source": [
        "**There is a significant difference between Weekday and Weekend total accidents occuring during evening rush hour (3pm-7pm) as p<0.05**"
      ]
    },
    {
      "cell_type": "code",
      "metadata": {
        "colab": {
          "base_uri": "https://localhost:8080/"
        },
        "id": "9DnUhUVHDtP2",
        "outputId": "e07d9974-982e-4068-ff23-cbde3932e755"
      },
      "source": [
        "stats.ttest_ind(Weekend_driving['Morning_non_rushhour_0am_6am'], Weekday_driving['Morning_non_rushhour_0am_6am'])"
      ],
      "execution_count": null,
      "outputs": [
        {
          "output_type": "execute_result",
          "data": {
            "text/plain": [
              "Ttest_indResult(statistic=33.5159363577058, pvalue=1.0582086943830348e-243)"
            ]
          },
          "metadata": {
            "tags": []
          },
          "execution_count": 31
        }
      ]
    },
    {
      "cell_type": "markdown",
      "metadata": {
        "id": "idEkDRz7ECNd"
      },
      "source": [
        "**There is a significant difference between Weekday and Weekend total accidents occuring during Morning non_rush hour (0am-6am) as p<0.05**"
      ]
    },
    {
      "cell_type": "code",
      "metadata": {
        "colab": {
          "base_uri": "https://localhost:8080/"
        },
        "id": "mMFKOKpHEuGv",
        "outputId": "523bbb5f-104e-4638-88db-007417601afc"
      },
      "source": [
        "stats.ttest_ind(Weekend_driving['Night_non_rushhour_7pm_0am'], Weekday_driving['Night_non_rushhour_7pm_0am'])"
      ],
      "execution_count": null,
      "outputs": [
        {
          "output_type": "execute_result",
          "data": {
            "text/plain": [
              "Ttest_indResult(statistic=21.787592207920788, pvalue=8.865041774739022e-105)"
            ]
          },
          "metadata": {
            "tags": []
          },
          "execution_count": 32
        }
      ]
    },
    {
      "cell_type": "markdown",
      "metadata": {
        "id": "c-VRIeEWE0rC"
      },
      "source": [
        "**There is a significant difference between Weekday and Weekend total accidents occuring during Night non-rush hour (7pm-0am) as p<0.05**"
      ]
    },
    {
      "cell_type": "code",
      "metadata": {
        "colab": {
          "base_uri": "https://localhost:8080/"
        },
        "id": "soTDKVaTFcnX",
        "outputId": "7407971e-b255-4d11-e7dc-ecf5fb8fc1b5"
      },
      "source": [
        "stats.ttest_ind(Weekend_driving['Noon_non_rushhour_10am_3pm'], Weekday_driving['Noon_non_rushhour_10am_3pm'])"
      ],
      "execution_count": null,
      "outputs": [
        {
          "output_type": "execute_result",
          "data": {
            "text/plain": [
              "Ttest_indResult(statistic=-2.318195867342851, pvalue=0.020442495170344303)"
            ]
          },
          "metadata": {
            "tags": []
          },
          "execution_count": 33
        }
      ]
    },
    {
      "cell_type": "markdown",
      "metadata": {
        "id": "JPRP53S5FhaI"
      },
      "source": [
        "**There is a significant difference between Weekday and Weekend total accidents occuring during Noon non_rush hour (10am-3pm) as p<0.05**"
      ]
    },
    {
      "cell_type": "markdown",
      "metadata": {
        "id": "wLkycAEs7oqY"
      },
      "source": [
        "**Answer 3. There is a significant difference between Weekday and Weekend total accidents occuring during evening rush hour (6am-10am) as p<0.05**"
      ]
    },
    {
      "cell_type": "code",
      "metadata": {
        "colab": {
          "base_uri": "https://localhost:8080/",
          "height": 195
        },
        "id": "hIG85Am-QZHf",
        "outputId": "cffc941d-4d9d-4833-c8cd-5cd54f25bdc9"
      },
      "source": [
        "hyp_data = [['Weekend_driving_Noon_non_rushhour_10am_3pm', 'Weekday_driving_Noon_non_rushhour_10am_3pm', 0.02044], ['Weekend_driving_Night_non_rushhour_7pm_0am', 'Weekday_driving_Night_non_rushhour_7pm_0am', '8.865041774739022e-105'],['Weekend_driving_Morning_non_rushhour_0am_6am', 'Weekday_driving_Morning_non_rushhour_0am_6am', 1.0582086943830348e-243], ['Weekend_driving_evening_rushhour_3pm_7pm', 'Weekday_driving_evening_rushhour_3pm_7pm',7.24692724804376e-53], ['Weekend_driving_morning_rushhour_6am_10am', 'Weekday_driving_morning_rushhour_6am_10am',2.5150332606835786e-87]]\r\n",
        "pd.options.display.float_format = '{:,.15f}'.format\r\n",
        "pd.DataFrame(hyp_data, columns=[\"Weekend_Time\", \"Weekday_Time\", \"p-value\"])"
      ],
      "execution_count": null,
      "outputs": [
        {
          "output_type": "execute_result",
          "data": {
            "text/html": [
              "<div>\n",
              "<style scoped>\n",
              "    .dataframe tbody tr th:only-of-type {\n",
              "        vertical-align: middle;\n",
              "    }\n",
              "\n",
              "    .dataframe tbody tr th {\n",
              "        vertical-align: top;\n",
              "    }\n",
              "\n",
              "    .dataframe thead th {\n",
              "        text-align: right;\n",
              "    }\n",
              "</style>\n",
              "<table border=\"1\" class=\"dataframe\">\n",
              "  <thead>\n",
              "    <tr style=\"text-align: right;\">\n",
              "      <th></th>\n",
              "      <th>Weekend_Time</th>\n",
              "      <th>Weekday_Time</th>\n",
              "      <th>p-value</th>\n",
              "    </tr>\n",
              "  </thead>\n",
              "  <tbody>\n",
              "    <tr>\n",
              "      <th>0</th>\n",
              "      <td>Weekend_driving_Noon_non_rushhour_10am_3pm</td>\n",
              "      <td>Weekday_driving_Noon_non_rushhour_10am_3pm</td>\n",
              "      <td>0.020440000000000</td>\n",
              "    </tr>\n",
              "    <tr>\n",
              "      <th>1</th>\n",
              "      <td>Weekend_driving_Night_non_rushhour_7pm_0am</td>\n",
              "      <td>Weekday_driving_Night_non_rushhour_7pm_0am</td>\n",
              "      <td>8.865041774739022e-105</td>\n",
              "    </tr>\n",
              "    <tr>\n",
              "      <th>2</th>\n",
              "      <td>Weekend_driving_Morning_non_rushhour_0am_6am</td>\n",
              "      <td>Weekday_driving_Morning_non_rushhour_0am_6am</td>\n",
              "      <td>0.000000000000000</td>\n",
              "    </tr>\n",
              "    <tr>\n",
              "      <th>3</th>\n",
              "      <td>Weekend_driving_evening_rushhour_3pm_7pm</td>\n",
              "      <td>Weekday_driving_evening_rushhour_3pm_7pm</td>\n",
              "      <td>0.000000000000000</td>\n",
              "    </tr>\n",
              "    <tr>\n",
              "      <th>4</th>\n",
              "      <td>Weekend_driving_morning_rushhour_6am_10am</td>\n",
              "      <td>Weekday_driving_morning_rushhour_6am_10am</td>\n",
              "      <td>0.000000000000000</td>\n",
              "    </tr>\n",
              "  </tbody>\n",
              "</table>\n",
              "</div>"
            ],
            "text/plain": [
              "                                   Weekend_Time  ...                 p-value\n",
              "0    Weekend_driving_Noon_non_rushhour_10am_3pm  ...       0.020440000000000\n",
              "1    Weekend_driving_Night_non_rushhour_7pm_0am  ...  8.865041774739022e-105\n",
              "2  Weekend_driving_Morning_non_rushhour_0am_6am  ...       0.000000000000000\n",
              "3      Weekend_driving_evening_rushhour_3pm_7pm  ...       0.000000000000000\n",
              "4     Weekend_driving_morning_rushhour_6am_10am  ...       0.000000000000000\n",
              "\n",
              "[5 rows x 3 columns]"
            ]
          },
          "metadata": {
            "tags": []
          },
          "execution_count": 34
        }
      ]
    },
    {
      "cell_type": "code",
      "metadata": {
        "colab": {
          "base_uri": "https://localhost:8080/",
          "height": 136
        },
        "id": "8CmV8r8__Eza",
        "outputId": "0107cec1-c6f7-4508-8768-518863845f9f"
      },
      "source": [
        "piv2=pd.pivot_table(clean_project,index=[\"Weekend?\"], values=[\"morning_rushhour_6am_10am\", \"evening_rushhour_3pm_7pm\",\"Morning_non_rushhour_0am_6am\",\"Noon_non_rushhour_10am_3pm\",\"Night_non_rushhour_7pm_0am\"],  aggfunc={\"morning_rushhour_6am_10am\":np.sum,\"evening_rushhour_3pm_7pm\":np.sum,\"Morning_non_rushhour_0am_6am\":np.sum,\"Noon_non_rushhour_10am_3pm\":np.sum,\"Night_non_rushhour_7pm_0am\":np.sum})\r\n",
        "piv2['total1']=piv2['morning_rushhour_6am_10am'] + piv2['evening_rushhour_3pm_7pm'] + piv2['Morning_non_rushhour_0am_6am'] + piv2['Night_non_rushhour_7pm_0am'] + piv2['Noon_non_rushhour_10am_3pm']\r\n",
        "pd.options.display.float_format = '{:.0f}'.format\r\n",
        "piv2.sort_values(by=[\"total1\"]).tail(15)"
      ],
      "execution_count": null,
      "outputs": [
        {
          "output_type": "execute_result",
          "data": {
            "text/html": [
              "<div>\n",
              "<style scoped>\n",
              "    .dataframe tbody tr th:only-of-type {\n",
              "        vertical-align: middle;\n",
              "    }\n",
              "\n",
              "    .dataframe tbody tr th {\n",
              "        vertical-align: top;\n",
              "    }\n",
              "\n",
              "    .dataframe thead th {\n",
              "        text-align: right;\n",
              "    }\n",
              "</style>\n",
              "<table border=\"1\" class=\"dataframe\">\n",
              "  <thead>\n",
              "    <tr style=\"text-align: right;\">\n",
              "      <th></th>\n",
              "      <th>Morning_non_rushhour_0am_6am</th>\n",
              "      <th>Night_non_rushhour_7pm_0am</th>\n",
              "      <th>Noon_non_rushhour_10am_3pm</th>\n",
              "      <th>evening_rushhour_3pm_7pm</th>\n",
              "      <th>morning_rushhour_6am_10am</th>\n",
              "      <th>total1</th>\n",
              "    </tr>\n",
              "    <tr>\n",
              "      <th>Weekend?</th>\n",
              "      <th></th>\n",
              "      <th></th>\n",
              "      <th></th>\n",
              "      <th></th>\n",
              "      <th></th>\n",
              "      <th></th>\n",
              "    </tr>\n",
              "  </thead>\n",
              "  <tbody>\n",
              "    <tr>\n",
              "      <th>Weekend</th>\n",
              "      <td>1906</td>\n",
              "      <td>2219</td>\n",
              "      <td>3301</td>\n",
              "      <td>3868</td>\n",
              "      <td>1594</td>\n",
              "      <td>12888</td>\n",
              "    </tr>\n",
              "    <tr>\n",
              "      <th>Weekday</th>\n",
              "      <td>2264</td>\n",
              "      <td>4013</td>\n",
              "      <td>10578</td>\n",
              "      <td>14859</td>\n",
              "      <td>7980</td>\n",
              "      <td>39694</td>\n",
              "    </tr>\n",
              "  </tbody>\n",
              "</table>\n",
              "</div>"
            ],
            "text/plain": [
              "          Morning_non_rushhour_0am_6am  ...  total1\n",
              "Weekend?                                ...        \n",
              "Weekend                           1906  ...   12888\n",
              "Weekday                           2264  ...   39694\n",
              "\n",
              "[2 rows x 6 columns]"
            ]
          },
          "metadata": {
            "tags": []
          },
          "execution_count": 35
        }
      ]
    },
    {
      "cell_type": "code",
      "metadata": {
        "colab": {
          "base_uri": "https://localhost:8080/",
          "height": 225
        },
        "id": "JiFVyyhDaQrE",
        "outputId": "6a9988bb-9c00-4586-bc5f-3babfff99cb9"
      },
      "source": [
        "piv3=pd.pivot_table(clean_project,index=[\"Reported_Location\"], values=[\"morning_rushhour_6am_10am\", \"evening_rushhour_3pm_7pm\",\"Morning_non_rushhour_0am_6am\",\"Noon_non_rushhour_10am_3pm\",\"Night_non_rushhour_7pm_0am\"],  aggfunc={\"morning_rushhour_6am_10am\":np.sum,\"evening_rushhour_3pm_7pm\":np.sum,\"Morning_non_rushhour_0am_6am\":np.sum,\"Noon_non_rushhour_10am_3pm\":np.sum,\"Night_non_rushhour_7pm_0am\":np.sum})\r\n",
        "piv3['total2']=piv3['morning_rushhour_6am_10am'] + piv3['evening_rushhour_3pm_7pm'] + piv3['Morning_non_rushhour_0am_6am'] + piv3['Night_non_rushhour_7pm_0am'] + piv3['Noon_non_rushhour_10am_3pm']\r\n",
        "pd.options.display.float_format = '{:.0f}'.format\r\n",
        "piv3.sort_values(by=['total2']).tail(5)"
      ],
      "execution_count": null,
      "outputs": [
        {
          "output_type": "execute_result",
          "data": {
            "text/html": [
              "<div>\n",
              "<style scoped>\n",
              "    .dataframe tbody tr th:only-of-type {\n",
              "        vertical-align: middle;\n",
              "    }\n",
              "\n",
              "    .dataframe tbody tr th {\n",
              "        vertical-align: top;\n",
              "    }\n",
              "\n",
              "    .dataframe thead th {\n",
              "        text-align: right;\n",
              "    }\n",
              "</style>\n",
              "<table border=\"1\" class=\"dataframe\">\n",
              "  <thead>\n",
              "    <tr style=\"text-align: right;\">\n",
              "      <th></th>\n",
              "      <th>Morning_non_rushhour_0am_6am</th>\n",
              "      <th>Night_non_rushhour_7pm_0am</th>\n",
              "      <th>Noon_non_rushhour_10am_3pm</th>\n",
              "      <th>evening_rushhour_3pm_7pm</th>\n",
              "      <th>morning_rushhour_6am_10am</th>\n",
              "      <th>total2</th>\n",
              "    </tr>\n",
              "    <tr>\n",
              "      <th>Reported_Location</th>\n",
              "      <th></th>\n",
              "      <th></th>\n",
              "      <th></th>\n",
              "      <th></th>\n",
              "      <th></th>\n",
              "      <th></th>\n",
              "    </tr>\n",
              "  </thead>\n",
              "  <tbody>\n",
              "    <tr>\n",
              "      <th>S WALNUT ST</th>\n",
              "      <td>16</td>\n",
              "      <td>18</td>\n",
              "      <td>49</td>\n",
              "      <td>48</td>\n",
              "      <td>37</td>\n",
              "      <td>168</td>\n",
              "    </tr>\n",
              "    <tr>\n",
              "      <th>3RD ST</th>\n",
              "      <td>9</td>\n",
              "      <td>28</td>\n",
              "      <td>54</td>\n",
              "      <td>78</td>\n",
              "      <td>15</td>\n",
              "      <td>184</td>\n",
              "    </tr>\n",
              "    <tr>\n",
              "      <th>SR37N &amp; VERNAL</th>\n",
              "      <td>2</td>\n",
              "      <td>14</td>\n",
              "      <td>54</td>\n",
              "      <td>80</td>\n",
              "      <td>46</td>\n",
              "      <td>196</td>\n",
              "    </tr>\n",
              "    <tr>\n",
              "      <th>W 3RD ST</th>\n",
              "      <td>4</td>\n",
              "      <td>30</td>\n",
              "      <td>69</td>\n",
              "      <td>76</td>\n",
              "      <td>31</td>\n",
              "      <td>210</td>\n",
              "    </tr>\n",
              "    <tr>\n",
              "      <th>E 3RD ST</th>\n",
              "      <td>6</td>\n",
              "      <td>42</td>\n",
              "      <td>114</td>\n",
              "      <td>159</td>\n",
              "      <td>31</td>\n",
              "      <td>352</td>\n",
              "    </tr>\n",
              "  </tbody>\n",
              "</table>\n",
              "</div>"
            ],
            "text/plain": [
              "                   Morning_non_rushhour_0am_6am  ...  total2\n",
              "Reported_Location                                ...        \n",
              "S WALNUT ST                                  16  ...     168\n",
              "3RD ST                                        9  ...     184\n",
              "SR37N & VERNAL                                2  ...     196\n",
              "W 3RD ST                                      4  ...     210\n",
              "E 3RD ST                                      6  ...     352\n",
              "\n",
              "[5 rows x 6 columns]"
            ]
          },
          "metadata": {
            "tags": []
          },
          "execution_count": 36
        }
      ]
    },
    {
      "cell_type": "code",
      "metadata": {
        "colab": {
          "base_uri": "https://localhost:8080/",
          "height": 548
        },
        "id": "I8XqedGqbimW",
        "outputId": "0c0278da-36dc-4589-ddb8-acb99a91d4d8"
      },
      "source": [
        "sns.set(font_scale=1.2)\r\n",
        "clean_project['Reported_Location'].value_counts().head(10).plot(kind='bar', figsize=(10, 6))\r\n",
        "plt.xlabel(\"Reported_Location\", labelpad=14)\r\n",
        "plt.ylabel(\"Total Accidents\", labelpad=14)\r\n",
        "plt.title(\"Maximum Number of Accidents caused by Location\", y=1);"
      ],
      "execution_count": null,
      "outputs": [
        {
          "output_type": "display_data",
          "data": {
            "image/png": "[encoded data removed]",
            "text/plain": [
              "<Figure size 720x432 with 1 Axes>"
            ]
          },
          "metadata": {
            "tags": []
          }
        }
      ]
    },
    {
      "cell_type": "code",
      "metadata": {
        "colab": {
          "base_uri": "https://localhost:8080/"
        },
        "id": "0L_n44SN_aGD",
        "outputId": "192ddf67-0b97-41d0-952a-7f9f75f320ce"
      },
      "source": [
        "clean_project[(clean_project['Injury Type'] == 'No injury/unknown')]['Reported_Location'].value_counts().head(15)"
      ],
      "execution_count": null,
      "outputs": [
        {
          "output_type": "execute_result",
          "data": {
            "text/plain": [
              "E 3RD ST              337\n",
              "W 3RD ST              188\n",
              "3RD ST                161\n",
              "S WALNUT ST           151\n",
              "SR37N & VERNAL        136\n",
              "E 10TH ST             133\n",
              "S COLLEGE MALL RD     106\n",
              "N WALNUT ST           100\n",
              "WALNUT ST              97\n",
              "E 17TH ST              92\n",
              "10TH & COLLEGE AVE     91\n",
              "N FEE LN               89\n",
              "EAST 3RD ST            87\n",
              "SR37S & VERNAL         84\n",
              "SR37S & TAPP           83\n",
              "Name: Reported_Location, dtype: int64"
            ]
          },
          "metadata": {
            "tags": []
          },
          "execution_count": 38
        }
      ]
    },
    {
      "cell_type": "code",
      "metadata": {
        "colab": {
          "base_uri": "https://localhost:8080/"
        },
        "id": "QsB8O4mcAG2u",
        "outputId": "486faa30-6ea0-4742-d292-71931f1b90a4"
      },
      "source": [
        "clean_project[(clean_project['Injury Type'] == 'Non-incapacitating')]['Reported_Location'].value_counts().head(15)"
      ],
      "execution_count": null,
      "outputs": [
        {
          "output_type": "execute_result",
          "data": {
            "text/plain": [
              "SR37N & VERNAL             53\n",
              "SR37 & VERNAL              42\n",
              "SR37 & SR45                31\n",
              "3RD ST & COLLEGE MALL      30\n",
              "FULLERTON & SR37S          29\n",
              "3RD ST & JORDAN            28\n",
              "SR37S & VERNAL             27\n",
              "SR37S & SR45W              26\n",
              "LIBERTY & SR45W            26\n",
              "3RD ST & WASHINGTON        25\n",
              "SR37S & TAPP               25\n",
              "13TH & INDIANA AVE         24\n",
              "3RD ST                     23\n",
              "ATWATER AVE & HENDERSON    23\n",
              "SR37S & VICTOR             22\n",
              "Name: Reported_Location, dtype: int64"
            ]
          },
          "metadata": {
            "tags": []
          },
          "execution_count": 39
        }
      ]
    },
    {
      "cell_type": "code",
      "metadata": {
        "colab": {
          "base_uri": "https://localhost:8080/"
        },
        "id": "xxYcvIIHAM2J",
        "outputId": "b06408d4-554f-422f-dd8b-cb6aee7d45f9"
      },
      "source": [
        "clean_project[(clean_project['Injury Type'] == 'Fatal')]['Reported_Location'].value_counts().head(5)"
      ],
      "execution_count": null,
      "outputs": [
        {
          "output_type": "execute_result",
          "data": {
            "text/plain": [
              "FLATWOODS & SR46W               3\n",
              "SR37N & WAYPORT                 2\n",
              "CLEVE BUTCHER & FAIRFAX RD      2\n",
              "BRUMMETTS CREEK ROAD & SR46E    1\n",
              "RHORER RED & SR37               1\n",
              "Name: Reported_Location, dtype: int64"
            ]
          },
          "metadata": {
            "tags": []
          },
          "execution_count": 40
        }
      ]
    },
    {
      "cell_type": "code",
      "metadata": {
        "colab": {
          "base_uri": "https://localhost:8080/"
        },
        "id": "wY8Gy5g7Ahhr",
        "outputId": "57bfe6e2-6cf1-48cb-e26a-ef268f92e039"
      },
      "source": [
        "clean_project[(clean_project['Injury Type'] == 'Incapacitating')]['Reported_Location'].value_counts().head(5)"
      ],
      "execution_count": null,
      "outputs": [
        {
          "output_type": "execute_result",
          "data": {
            "text/plain": [
              "SMITHVILLE & SR37S      8\n",
              "SR37N & VERNAL          7\n",
              "FULLERTON & SR37S       7\n",
              "HINDS & SR45W           5\n",
              "HARTSTRAIGHT & SR46W    4\n",
              "Name: Reported_Location, dtype: int64"
            ]
          },
          "metadata": {
            "tags": []
          },
          "execution_count": 41
        }
      ]
    },
    {
      "cell_type": "markdown",
      "metadata": {
        "id": "VxrFNXS7Arx9"
      },
      "source": [
        "**Answer 4 ** **E 3Rd Street appear to have more accidents out of all the locations**"
      ]
    },
    {
      "cell_type": "markdown",
      "metadata": {
        "id": "NZrXHT_yB_ga"
      },
      "source": [
        "**Results Summary/Recommendations:**\r\n",
        "\r\n",
        "1. Location **E 3rd street** appear to have more accidents but with no injuries. Drivers involved in accidents at location **SR37N & VERNAL** resulted Incapacitated. So placing caution signage or adding more lanes or reducing the speed limit would minimize the number accidents\r\n",
        "2. More patroling can help minimzing the number of accidents at these locations\r\n",
        "3. Since there is a difference between weekday and weekend number of accidents at all times and weekday shows more accidents than weekend, more patroling is needed during weekdays\r\n",
        "4. Regarding timing, there is no correlation between morning non-rush hour (from 0am-6am) accidents and total accidents. It implies that, early morning time is relatively safe for driving\r\n"
      ]
    }
  ]
}